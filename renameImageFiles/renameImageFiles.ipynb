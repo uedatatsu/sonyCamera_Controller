{
 "cells": [
  {
   "cell_type": "code",
   "execution_count": 15,
   "metadata": {},
   "outputs": [],
   "source": [
    "# カメラで撮影後、画像番号を連番でつけるプログラム\n",
    "# 単一番号版\n",
    "\n",
    "import glob\n",
    "import os\n",
    " \n",
    "# 拡張子.JPGのファイルを取得する\n",
    "path = 'F:/ueda/2019-10-18_1FTL_span0.5/on_/*.JPG'\n",
    "\n",
    "# つける番号\n",
    "i = -13.0\n",
    "\n",
    "# JPGファイルを取得する\n",
    "flist = glob.glob(path)\n",
    "\n",
    "# 確認用\n",
    "# print('変更前')\n",
    "# print(flist)\n",
    "\n",
    "# 撮影順にソート\n",
    "flist=sorted(flist, key=os.path.getmtime, reverse=False)\n",
    "\n",
    "# ファイル名を一括で変更する\n",
    "for file in flist:\n",
    "    os.rename(file, 'F:/ueda/2019-10-18_1FTL_span0.5/on_/img_'+str(i)+'.JPG')\n",
    "    i+=0.5\n",
    "\n",
    "# 確認用\n",
    "# list = glob.glob(path)\n",
    "# print('変更後')\n",
    "# print(list)"
   ]
  },
  {
   "cell_type": "code",
   "execution_count": null,
   "metadata": {},
   "outputs": [],
   "source": [
    "# カメラで撮影後、画像番号を連番でつけるプログラム\n",
    "# 二重番号版\n",
    "\n",
    "import glob\n",
    "import os\n",
    " \n",
    "# 拡張子.txtのファイルを取得する\n",
    "path = 'F:/ueda/2019-10-18_2FTL_span0.5/off_/*.JPG'\n",
    "\n",
    "# つける番号\n",
    "i = -13.0\n",
    "j = -13.0\n",
    " \n",
    "# JPGファイルを取得する\n",
    "flist = glob.glob(path)\n",
    "\n",
    "# 確認用\n",
    "# print('変更前')\n",
    "# print(flist)\n",
    "\n",
    "# 撮影順にソート\n",
    "flist=sorted(flist, key=os.path.getmtime, reverse=False)\n",
    "\n",
    "# ファイル名を一括で変更する\n",
    "for file in flist:\n",
    "    os.rename(file, 'F:/ueda/2019-10-18_2FTL_span0.5/off_/obj_' + str(i) + '_img_'+str(j)+'.JPG')\n",
    "    j+=0.5\n",
    "    if j==14.0:\n",
    "        i+=0.5\n",
    "        j=-13.0\n",
    "\n",
    "# 確認用\n",
    "# list = glob.glob(path)\n",
    "# print('変更後')\n",
    "# print(list)"
   ]
  }
 ],
 "metadata": {
  "kernelspec": {
   "display_name": "Python 3",
   "language": "python",
   "name": "python3"
  },
  "language_info": {
   "codemirror_mode": {
    "name": "ipython",
    "version": 3
   },
   "file_extension": ".py",
   "mimetype": "text/x-python",
   "name": "python",
   "nbconvert_exporter": "python",
   "pygments_lexer": "ipython3",
   "version": "3.6.5"
  }
 },
 "nbformat": 4,
 "nbformat_minor": 2
}
